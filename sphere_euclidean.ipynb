{
 "cells": [
  {
   "cell_type": "code",
   "execution_count": 2,
   "metadata": {},
   "outputs": [],
   "source": [
    "import torch\n",
    "import yaml\n",
    "import time\n",
    "import numpy as np\n",
    "from pathlib import Path\n",
    "from torch.utils.data import DataLoader\n",
    "from torch_ema import ExponentialMovingAverage\n",
    "\n",
    "from models.state_mlp import StateMLP\n",
    "from data.lasa_data import StatePyLASADataset, wrap\n",
    "from utils.plotting import *\n",
    "from utils.manifold_utils import *\n",
    "\n",
    "from flow_matching.utils.manifolds import Manifold, Sphere, Euclidean\n",
    "from flow_matching.path import GeodesicProbPath\n",
    "from flow_matching.path.scheduler import CondOTScheduler\n",
    "\n",
    "import matplotlib.pyplot as plt\n",
    "from mpl_toolkits.mplot3d import Axes3D\n",
    "\n",
    "from soft_dtw import *\n",
    "import os\n",
    "from tqdm import tqdm\n",
    "from typing import Dict, Any"
   ]
  },
  {
   "cell_type": "code",
   "execution_count": 3,
   "metadata": {},
   "outputs": [
    {
     "data": {
      "text/plain": [
       "<torch._C.Generator at 0x769d93f73bd0>"
      ]
     },
     "execution_count": 3,
     "metadata": {},
     "output_type": "execute_result"
    }
   ],
   "source": [
    "torch.manual_seed(3420934659826)"
   ]
  },
  {
   "cell_type": "code",
   "execution_count": 4,
   "metadata": {},
   "outputs": [
    {
     "data": {
      "text/plain": [
       "{'train': {'lr': 0.0001,\n",
       "  'epochs': 100001,\n",
       "  'batch_size': 100,\n",
       "  'inf_every': 4000,\n",
       "  'print_every': 4000,\n",
       "  'device': 'cpu',\n",
       "  'inf_runs_num': 1,\n",
       "  'inf_run_step': 0.05},\n",
       " 'model': {'hidden_dim': 96, 'num_layers': 6, 'embed_dim': 24},\n",
       " 'data': {'dim': 3,\n",
       "  'manifold': 'Sphere',\n",
       "  'datasets': ['Sine'],\n",
       "  'horizon_size': 20,\n",
       "  'inference_horizon': 10,\n",
       "  'scale_factor': 2.0,\n",
       "  'downsample': 5,\n",
       "  'sample_points': 300,\n",
       "  'mean': 0.0,\n",
       "  'std': 0.5},\n",
       " 'ema': {'warmup': 2000, 'update': 5, 'decay': 0.999},\n",
       " 'scheduler': {'step': 10000, 'gamma': 0.5}}"
      ]
     },
     "execution_count": 4,
     "metadata": {},
     "output_type": "execute_result"
    }
   ],
   "source": [
    "run_parameters =  yaml.safe_load(Path(\"./configs/sphere_euclidean.yaml\").read_text())\n",
    "run_parameters"
   ]
  },
  {
   "cell_type": "code",
   "execution_count": 5,
   "metadata": {},
   "outputs": [
    {
     "name": "stdout",
     "output_type": "stream",
     "text": [
      "[0, 1, 2, 3, 4, 5] [6]\n"
     ]
    }
   ],
   "source": [
    "manifold_types = {'None' : None, 'Euclidean': Euclidean(), 'Sphere':Sphere()}\n",
    "train_sets= list(range(6)) #+ list(range(7, 13)) + list(range(14, 20)) + list(range(21, 27))\n",
    "val_sets = [6]#, 13, 20, 27]\n",
    "print(train_sets, val_sets)"
   ]
  },
  {
   "cell_type": "code",
   "execution_count": 6,
   "metadata": {},
   "outputs": [
    {
     "name": "stdout",
     "output_type": "stream",
     "text": [
      "7\n",
      "1\n",
      "6\n",
      "torch.Size([1, 200, 7])\n"
     ]
    }
   ],
   "source": [
    "manifold = manifold_types[run_parameters['data']['manifold']]\n",
    "LASA_datasets = run_parameters['data']['datasets']\n",
    "\n",
    "dataset = StatePyLASADataset(LASA_datasets,\n",
    "                               train=train_sets,\n",
    "                               horizon_size=run_parameters['data']['horizon_size'],\n",
    "                               scaling_factor=run_parameters['data']['scale_factor'],\n",
    "                               downsample = run_parameters['data']['downsample'],\n",
    "                               manifold=manifold,\n",
    "                               dim_to=run_parameters['data']['dim'])\n",
    "\n",
    "print(dataset.__len__())\n",
    "\n",
    "train_dataset = torch.utils.data.Subset(dataset, train_sets)\n",
    "\n",
    "test_dataset = torch.utils.data.Subset(dataset, val_sets)\n",
    "\n",
    "train_dataloader = DataLoader(train_dataset,\n",
    "                       batch_size=run_parameters['train']['batch_size'],\n",
    "                       shuffle=True)\n",
    "\n",
    "val_dataloader = DataLoader(test_dataset,\n",
    "                    batch_size=run_parameters['train']['batch_size'],\n",
    "                    shuffle=True)\n",
    "\n",
    "test_dataloader = DataLoader(test_dataset,\n",
    "                    batch_size=1,\n",
    "                    shuffle=False)\n",
    "\n",
    "inf_obs, _, label = next(iter(test_dataloader))\n",
    "inf_obs = inf_obs[:, :2]\n",
    "\n",
    "gt_test = DataLoader(test_dataset,\n",
    "                    batch_size=4,\n",
    "                    shuffle=False)\n",
    "\n",
    "print(test_dataset.__len__())\n",
    "print(train_dataset.__len__())\n",
    "\n",
    "gt_obs, gt_horizon, label = next(iter(gt_test))\n",
    "print(gt_obs.shape)"
   ]
  },
  {
   "cell_type": "code",
   "execution_count": 7,
   "metadata": {},
   "outputs": [],
   "source": [
    "def save_config_to_yaml(config: Dict[str, Any], filepath: str) -> None:\n",
    "    try:\n",
    "        with open(filepath, 'w') as f:\n",
    "            yaml.dump(config, f, default_flow_style=False)  \n",
    "    except Exception as e:\n",
    "        raise IOError(f\"Failed to save config to {filepath}\") from e\n",
    "    \n",
    "def get_parameters_from_run(run_name):\n",
    "    return yaml.safe_load(Path(os.path.join('./runs', run_name, 'config.yaml')).read_text())\n",
    "\n",
    "def get_model(run_name, action_dim=None):\n",
    "    parameters = get_parameters_from_run(run_name)\n",
    "    act_dim = action_dim if action_dim is not None else parameters['data']['dim']\n",
    "    vf = StateMLP(\n",
    "        action_dim=act_dim,\n",
    "        hidden_dim=parameters['model']['hidden_dim'],\n",
    "        horizon_size=parameters['data']['horizon_size'],\n",
    "        num_layers=parameters['model']['num_layers'],\n",
    "        label_embedding_dim=parameters['model']['embed_dim'],\n",
    "        num_classes=len(parameters['data']['datasets'])\n",
    "    )\n",
    "    vf.load_state_dict(torch.load(os.path.join(\"./runs\", run_name, \"best_model.pth\"), weights_only=True))\n",
    "    return vf"
   ]
  },
  {
   "cell_type": "code",
   "execution_count": 8,
   "metadata": {},
   "outputs": [
    {
     "name": "stdout",
     "output_type": "stream",
     "text": [
      "Learnable params number: 84304\n"
     ]
    }
   ],
   "source": [
    "vf = StateMLP(\n",
    "    action_dim=run_parameters['data']['dim'],\n",
    "    hidden_dim=run_parameters['model']['hidden_dim'],\n",
    "    horizon_size=run_parameters['data']['horizon_size'],\n",
    "    num_layers=run_parameters['model']['num_layers'],\n",
    "    label_embedding_dim=run_parameters['model']['embed_dim'],\n",
    "    num_classes=len(LASA_datasets)\n",
    ")\n",
    "\n",
    "ema_vf = ExponentialMovingAverage(\n",
    "    vf.parameters(),\n",
    "    decay = run_parameters['ema']['decay'],\n",
    ")\n",
    "\n",
    "model_parameters = filter(lambda p: p.requires_grad, vf.parameters())\n",
    "params = sum([np.prod(p.size()) for p in model_parameters])\n",
    "print(\"Learnable params number:\", params)"
   ]
  },
  {
   "cell_type": "code",
   "execution_count": 9,
   "metadata": {},
   "outputs": [],
   "source": [
    "import torch\n",
    "import matplotlib.pyplot as plt\n",
    "import time\n",
    "\n",
    "def run_train(vf, train_dataloader, \n",
    "              val_dataloader, \n",
    "              run_parameters, \n",
    "              manifold, \n",
    "              ema_vf, dataset, \n",
    "              gt_obs, \n",
    "              run_name, run_path=\"./runs\"):\n",
    "    save_path = os.path.join(run_path, run_name)\n",
    "    os.makedirs(save_path, exist_ok=True)\n",
    "    save_config_to_yaml(run_parameters, os.path.join(save_path, 'config.yaml'))\n",
    "    \n",
    "    device = run_parameters['train']['device']\n",
    "    vf.to(device)\n",
    "\n",
    "    optim = torch.optim.Adam(vf.parameters(), lr=run_parameters['train']['lr'])\n",
    "    scheduler = torch.optim.lr_scheduler.StepLR(optim, \n",
    "                                               step_size=run_parameters['scheduler']['step'], \n",
    "                                               gamma=run_parameters['scheduler']['gamma'])\n",
    "\n",
    "    path = GeodesicProbPath(scheduler=CondOTScheduler(), manifold=Euclidean())\n",
    "\n",
    "    train_losses = []\n",
    "    val_losses = []\n",
    "    lrs = []\n",
    "    best_val_loss = float('inf')\n",
    "\n",
    "    start_time = time.time()\n",
    "    for i in range(run_parameters['train']['epochs']):\n",
    "        for batch in train_dataloader:\n",
    "            optim.zero_grad()\n",
    "\n",
    "            train_loss = step_euc_sphere(vf=vf, \n",
    "                                        batch=batch, \n",
    "                                        run_parameters=run_parameters, \n",
    "                                        path=path, \n",
    "                                        device=device)\n",
    "            \n",
    "            train_loss.backward()\n",
    "            optim.step()\n",
    "\n",
    "            if i > run_parameters['ema']['warmup'] and i % run_parameters['ema']['update'] == 0: \n",
    "                ema_vf.update()\n",
    "\n",
    "            if i % run_parameters['train']['print_every'] == 0:\n",
    "                elapsed = time.time() - start_time\n",
    "                print('| iter {:6d} | {:5.2f} sec | train loss {:8.3f} '\n",
    "                      .format(i, elapsed, train_loss.item()))\n",
    "                \n",
    "                plt.figure()\n",
    "                plt.plot(train_losses, label='Training Loss')\n",
    "                plt.plot(val_losses, label='Validation Loss')\n",
    "                plt.xlabel('Iterations (x print_every)')\n",
    "                plt.ylabel('Loss')\n",
    "                plt.legend()\n",
    "                plt.savefig(os.path.join(save_path,'loss_plot.png'))\n",
    "                plt.close()\n",
    "\n",
    "                plt.figure()\n",
    "                plt.plot(lrs, label='Learning rate')\n",
    "                plt.xlabel('Iterations (x print_every)')\n",
    "                plt.ylabel('lr')\n",
    "                plt.legend()\n",
    "                plt.savefig(os.path.join(save_path,'lr_plot.png'))\n",
    "                plt.close()\n",
    "                \n",
    "                with torch.no_grad():\n",
    "                    ema_vf.store()\n",
    "                    ema_vf.copy_to()\n",
    "                    val_batch = next(iter(val_dataloader))\n",
    "                    loss_val = step_euc_sphere(vf=vf, \n",
    "                                                batch=val_batch, \n",
    "                                                run_parameters=run_parameters, \n",
    "                                                path=path, \n",
    "                                                device=device)\n",
    "                    train_losses.append(train_loss.item())\n",
    "                    val_losses.append(loss_val.item())\n",
    "                    if loss_val.item() < best_val_loss:\n",
    "                        best_val_loss = loss_val.item()\n",
    "                        torch.save(vf.state_dict(), os.path.join(save_path, 'best_model.pth'))\n",
    "                    print('| iter {:6d} | validation loss: {:8.3f} '.format(i, loss_val.item()))\n",
    "\n",
    "                    infered = run_inference(manifold=Euclidean(),\n",
    "                                model=vf,\n",
    "                                run_parameters=run_parameters,\n",
    "                                class_labels=dataset.get_label_maping(),\n",
    "                                gt_obs=gt_obs,\n",
    "                                inference_type=\"Euclidean sphere\")\n",
    "                    for label_name in infered.keys():\n",
    "                        print(len(infered[label_name]['results']))\n",
    "                        plot_3d_points_interactive(infered[label_name]['results'])\n",
    "                    ema_vf.restore()\n",
    "                start_time = time.time()\n",
    "        lrs.append(scheduler.get_last_lr()[0])\n",
    "        scheduler.step()\n",
    "        \n",
    "\n",
    "\n",
    "    vf.load_state_dict(torch.load(os.path.join(save_path,'best_model.pth'), weights_only=True))\n",
    "    # with torch.no_grad():\n",
    "    #     infered = run_inference(manifold=manifold,\n",
    "    #                             model=vf,\n",
    "    #                             run_parameters=run_parameters,\n",
    "    #                             class_labels=dataset.get_label_maping(),\n",
    "    #                             gt_obs=gt_obs)\n",
    "    #     for label_name in infered.keys():\n",
    "    #         plot_flow_on_sphere(infered[label_name]['results'], \n",
    "    #                             infered[label_name]['samples'], \n",
    "    #                             gt_obs[dataset.get_label_maping()[label_name]],\n",
    "    #                             label=label_name)\n",
    "    #         plt.savefig(os.path.join(save_path, f'best_model_flow_{label_name}.png'))\n",
    "    #         plt.close()"
   ]
  },
  {
   "cell_type": "code",
   "execution_count": 10,
   "metadata": {},
   "outputs": [
    {
     "name": "stdout",
     "output_type": "stream",
     "text": [
      "| iter      0 |  0.09 sec | train loss    0.571 \n",
      "| iter      0 | validation loss:    0.597 \n"
     ]
    },
    {
     "name": "stderr",
     "output_type": "stream",
     "text": [
      "                                                                     "
     ]
    },
    {
     "name": "stdout",
     "output_type": "stream",
     "text": [
      "1\n"
     ]
    },
    {
     "name": "stderr",
     "output_type": "stream",
     "text": [
      "\r"
     ]
    },
    {
     "data": {
      "application/vnd.jupyter.widget-view+json": {
       "model_id": "22f93b18337947e796d6d7d850fd37aa",
       "version_major": 2,
       "version_minor": 0
      },
      "text/plain": [
       "VBox(children=(IntSlider(value=30, description='Elevation:', max=180, min=-180, step=45), IntSlider(value=45, …"
      ]
     },
     "metadata": {},
     "output_type": "display_data"
    },
    {
     "data": {
      "application/vnd.jupyter.widget-view+json": {
       "model_id": "85a103d1a8984eba845d434fa937ba82",
       "version_major": 2,
       "version_minor": 0
      },
      "text/plain": [
       "Output()"
      ]
     },
     "metadata": {},
     "output_type": "display_data"
    },
    {
     "name": "stdout",
     "output_type": "stream",
     "text": [
      "| iter   4000 | 37.93 sec | train loss    0.023 \n",
      "| iter   4000 | validation loss:    0.020 \n"
     ]
    },
    {
     "name": "stderr",
     "output_type": "stream",
     "text": [
      "                                                                     "
     ]
    },
    {
     "name": "stdout",
     "output_type": "stream",
     "text": [
      "1\n"
     ]
    },
    {
     "name": "stderr",
     "output_type": "stream",
     "text": [
      "\r"
     ]
    },
    {
     "data": {
      "application/vnd.jupyter.widget-view+json": {
       "model_id": "194b8d8dd7c8467ea3504e2a9bfe27e0",
       "version_major": 2,
       "version_minor": 0
      },
      "text/plain": [
       "VBox(children=(IntSlider(value=30, description='Elevation:', max=180, min=-180, step=45), IntSlider(value=45, …"
      ]
     },
     "metadata": {},
     "output_type": "display_data"
    },
    {
     "data": {
      "application/vnd.jupyter.widget-view+json": {
       "model_id": "38e84a74c15246b5a5b5aedf4111c570",
       "version_major": 2,
       "version_minor": 0
      },
      "text/plain": [
       "Output()"
      ]
     },
     "metadata": {},
     "output_type": "display_data"
    },
    {
     "name": "stdout",
     "output_type": "stream",
     "text": [
      "| iter   8000 | 38.83 sec | train loss    0.012 \n",
      "| iter   8000 | validation loss:    0.011 \n"
     ]
    },
    {
     "name": "stderr",
     "output_type": "stream",
     "text": [
      "                                                                     "
     ]
    },
    {
     "name": "stdout",
     "output_type": "stream",
     "text": [
      "1\n"
     ]
    },
    {
     "name": "stderr",
     "output_type": "stream",
     "text": [
      "\r"
     ]
    },
    {
     "data": {
      "application/vnd.jupyter.widget-view+json": {
       "model_id": "1e27a1b287804c2e841205de466d5d86",
       "version_major": 2,
       "version_minor": 0
      },
      "text/plain": [
       "VBox(children=(IntSlider(value=30, description='Elevation:', max=180, min=-180, step=45), IntSlider(value=45, …"
      ]
     },
     "metadata": {},
     "output_type": "display_data"
    },
    {
     "data": {
      "application/vnd.jupyter.widget-view+json": {
       "model_id": "66b546b3833d4ab8aab6fa013d70f189",
       "version_major": 2,
       "version_minor": 0
      },
      "text/plain": [
       "Output()"
      ]
     },
     "metadata": {},
     "output_type": "display_data"
    },
    {
     "name": "stdout",
     "output_type": "stream",
     "text": [
      "| iter  12000 | 42.32 sec | train loss    0.010 \n",
      "| iter  12000 | validation loss:    0.007 \n"
     ]
    },
    {
     "name": "stderr",
     "output_type": "stream",
     "text": [
      "                                                                     "
     ]
    },
    {
     "name": "stdout",
     "output_type": "stream",
     "text": [
      "1\n"
     ]
    },
    {
     "name": "stderr",
     "output_type": "stream",
     "text": [
      "\r"
     ]
    },
    {
     "data": {
      "application/vnd.jupyter.widget-view+json": {
       "model_id": "4fd397d2496041dcbfdb1faca8f54c1b",
       "version_major": 2,
       "version_minor": 0
      },
      "text/plain": [
       "VBox(children=(IntSlider(value=30, description='Elevation:', max=180, min=-180, step=45), IntSlider(value=45, …"
      ]
     },
     "metadata": {},
     "output_type": "display_data"
    },
    {
     "data": {
      "application/vnd.jupyter.widget-view+json": {
       "model_id": "79a4f70a678f42868ec44250641862f0",
       "version_major": 2,
       "version_minor": 0
      },
      "text/plain": [
       "Output()"
      ]
     },
     "metadata": {},
     "output_type": "display_data"
    },
    {
     "name": "stdout",
     "output_type": "stream",
     "text": [
      "| iter  16000 | 44.00 sec | train loss    0.009 \n",
      "| iter  16000 | validation loss:    0.008 \n"
     ]
    },
    {
     "name": "stderr",
     "output_type": "stream",
     "text": [
      "                                                                     "
     ]
    },
    {
     "name": "stdout",
     "output_type": "stream",
     "text": [
      "1\n"
     ]
    },
    {
     "name": "stderr",
     "output_type": "stream",
     "text": [
      "\r"
     ]
    },
    {
     "data": {
      "application/vnd.jupyter.widget-view+json": {
       "model_id": "f538d88cab924bf1a300beff9ea0162b",
       "version_major": 2,
       "version_minor": 0
      },
      "text/plain": [
       "VBox(children=(IntSlider(value=30, description='Elevation:', max=180, min=-180, step=45), IntSlider(value=45, …"
      ]
     },
     "metadata": {},
     "output_type": "display_data"
    },
    {
     "data": {
      "application/vnd.jupyter.widget-view+json": {
       "model_id": "b875698c7d644a099280653f01321592",
       "version_major": 2,
       "version_minor": 0
      },
      "text/plain": [
       "Output()"
      ]
     },
     "metadata": {},
     "output_type": "display_data"
    },
    {
     "name": "stdout",
     "output_type": "stream",
     "text": [
      "| iter  20000 | 43.56 sec | train loss    0.006 \n",
      "| iter  20000 | validation loss:    0.006 \n"
     ]
    },
    {
     "name": "stderr",
     "output_type": "stream",
     "text": [
      "                                                                     "
     ]
    },
    {
     "name": "stdout",
     "output_type": "stream",
     "text": [
      "1\n"
     ]
    },
    {
     "name": "stderr",
     "output_type": "stream",
     "text": [
      "\r"
     ]
    },
    {
     "data": {
      "application/vnd.jupyter.widget-view+json": {
       "model_id": "cec852c0e5f74eedb386c9170fc59c7c",
       "version_major": 2,
       "version_minor": 0
      },
      "text/plain": [
       "VBox(children=(IntSlider(value=30, description='Elevation:', max=180, min=-180, step=45), IntSlider(value=45, …"
      ]
     },
     "metadata": {},
     "output_type": "display_data"
    },
    {
     "data": {
      "application/vnd.jupyter.widget-view+json": {
       "model_id": "ff66f3c4c76946808eb6e5a30899bdb4",
       "version_major": 2,
       "version_minor": 0
      },
      "text/plain": [
       "Output()"
      ]
     },
     "metadata": {},
     "output_type": "display_data"
    },
    {
     "name": "stdout",
     "output_type": "stream",
     "text": [
      "| iter  24000 | 44.30 sec | train loss    0.005 \n",
      "| iter  24000 | validation loss:    0.006 \n"
     ]
    },
    {
     "name": "stderr",
     "output_type": "stream",
     "text": [
      "                                                                     "
     ]
    },
    {
     "name": "stdout",
     "output_type": "stream",
     "text": [
      "1\n"
     ]
    },
    {
     "name": "stderr",
     "output_type": "stream",
     "text": [
      "\r"
     ]
    },
    {
     "data": {
      "application/vnd.jupyter.widget-view+json": {
       "model_id": "55da56a5978d40118d4c47e861c23e26",
       "version_major": 2,
       "version_minor": 0
      },
      "text/plain": [
       "VBox(children=(IntSlider(value=30, description='Elevation:', max=180, min=-180, step=45), IntSlider(value=45, …"
      ]
     },
     "metadata": {},
     "output_type": "display_data"
    },
    {
     "data": {
      "application/vnd.jupyter.widget-view+json": {
       "model_id": "61b32a9f5a2f46d9bd2c65ccd4b1f1cc",
       "version_major": 2,
       "version_minor": 0
      },
      "text/plain": [
       "Output()"
      ]
     },
     "metadata": {},
     "output_type": "display_data"
    },
    {
     "name": "stdout",
     "output_type": "stream",
     "text": [
      "| iter  28000 | 36.80 sec | train loss    0.004 \n",
      "| iter  28000 | validation loss:    0.005 \n"
     ]
    },
    {
     "name": "stderr",
     "output_type": "stream",
     "text": [
      "                                                                     "
     ]
    },
    {
     "name": "stdout",
     "output_type": "stream",
     "text": [
      "1\n"
     ]
    },
    {
     "name": "stderr",
     "output_type": "stream",
     "text": [
      "\r"
     ]
    },
    {
     "data": {
      "application/vnd.jupyter.widget-view+json": {
       "model_id": "5deda0b848b24129beb2155175845cbc",
       "version_major": 2,
       "version_minor": 0
      },
      "text/plain": [
       "VBox(children=(IntSlider(value=30, description='Elevation:', max=180, min=-180, step=45), IntSlider(value=45, …"
      ]
     },
     "metadata": {},
     "output_type": "display_data"
    },
    {
     "data": {
      "application/vnd.jupyter.widget-view+json": {
       "model_id": "6fca45bfb61c49fe8e370c8ae8f8dafd",
       "version_major": 2,
       "version_minor": 0
      },
      "text/plain": [
       "Output()"
      ]
     },
     "metadata": {},
     "output_type": "display_data"
    },
    {
     "name": "stdout",
     "output_type": "stream",
     "text": [
      "| iter  32000 | 36.51 sec | train loss    0.005 \n",
      "| iter  32000 | validation loss:    0.005 \n"
     ]
    },
    {
     "name": "stderr",
     "output_type": "stream",
     "text": [
      "                                                                     "
     ]
    },
    {
     "name": "stdout",
     "output_type": "stream",
     "text": [
      "1\n"
     ]
    },
    {
     "name": "stderr",
     "output_type": "stream",
     "text": [
      "\r"
     ]
    },
    {
     "data": {
      "application/vnd.jupyter.widget-view+json": {
       "model_id": "083bdc4dde6043cbabc2bcc2926cf253",
       "version_major": 2,
       "version_minor": 0
      },
      "text/plain": [
       "VBox(children=(IntSlider(value=30, description='Elevation:', max=180, min=-180, step=45), IntSlider(value=45, …"
      ]
     },
     "metadata": {},
     "output_type": "display_data"
    },
    {
     "data": {
      "application/vnd.jupyter.widget-view+json": {
       "model_id": "557aa40493544f20afe7d95c3d22f6a1",
       "version_major": 2,
       "version_minor": 0
      },
      "text/plain": [
       "Output()"
      ]
     },
     "metadata": {},
     "output_type": "display_data"
    },
    {
     "name": "stdout",
     "output_type": "stream",
     "text": [
      "| iter  36000 | 37.21 sec | train loss    0.004 \n",
      "| iter  36000 | validation loss:    0.003 \n"
     ]
    },
    {
     "name": "stderr",
     "output_type": "stream",
     "text": [
      "                                                                     "
     ]
    },
    {
     "name": "stdout",
     "output_type": "stream",
     "text": [
      "1\n"
     ]
    },
    {
     "name": "stderr",
     "output_type": "stream",
     "text": [
      "\r"
     ]
    },
    {
     "data": {
      "application/vnd.jupyter.widget-view+json": {
       "model_id": "27587dbc16d546088181a31b2c0ad8f3",
       "version_major": 2,
       "version_minor": 0
      },
      "text/plain": [
       "VBox(children=(IntSlider(value=30, description='Elevation:', max=180, min=-180, step=45), IntSlider(value=45, …"
      ]
     },
     "metadata": {},
     "output_type": "display_data"
    },
    {
     "data": {
      "application/vnd.jupyter.widget-view+json": {
       "model_id": "448847a273b54e78ac266224d0eb844a",
       "version_major": 2,
       "version_minor": 0
      },
      "text/plain": [
       "Output()"
      ]
     },
     "metadata": {},
     "output_type": "display_data"
    },
    {
     "name": "stdout",
     "output_type": "stream",
     "text": [
      "| iter  40000 | 42.20 sec | train loss    0.003 \n",
      "| iter  40000 | validation loss:    0.003 \n"
     ]
    },
    {
     "name": "stderr",
     "output_type": "stream",
     "text": [
      "                                                                     "
     ]
    },
    {
     "name": "stdout",
     "output_type": "stream",
     "text": [
      "1\n"
     ]
    },
    {
     "name": "stderr",
     "output_type": "stream",
     "text": [
      "\r"
     ]
    },
    {
     "data": {
      "application/vnd.jupyter.widget-view+json": {
       "model_id": "f381286a1730470792db9e6e20a7c30e",
       "version_major": 2,
       "version_minor": 0
      },
      "text/plain": [
       "VBox(children=(IntSlider(value=30, description='Elevation:', max=180, min=-180, step=45), IntSlider(value=45, …"
      ]
     },
     "metadata": {},
     "output_type": "display_data"
    },
    {
     "data": {
      "application/vnd.jupyter.widget-view+json": {
       "model_id": "febb98a525a24c60bdad0b8978054441",
       "version_major": 2,
       "version_minor": 0
      },
      "text/plain": [
       "Output()"
      ]
     },
     "metadata": {},
     "output_type": "display_data"
    },
    {
     "name": "stdout",
     "output_type": "stream",
     "text": [
      "| iter  44000 | 43.60 sec | train loss    0.003 \n",
      "| iter  44000 | validation loss:    0.003 \n"
     ]
    },
    {
     "name": "stderr",
     "output_type": "stream",
     "text": [
      "                                                                     "
     ]
    },
    {
     "name": "stdout",
     "output_type": "stream",
     "text": [
      "1\n"
     ]
    },
    {
     "name": "stderr",
     "output_type": "stream",
     "text": [
      "\r"
     ]
    },
    {
     "data": {
      "application/vnd.jupyter.widget-view+json": {
       "model_id": "eee9e5e6b49341749633753307b4ae54",
       "version_major": 2,
       "version_minor": 0
      },
      "text/plain": [
       "VBox(children=(IntSlider(value=30, description='Elevation:', max=180, min=-180, step=45), IntSlider(value=45, …"
      ]
     },
     "metadata": {},
     "output_type": "display_data"
    },
    {
     "data": {
      "application/vnd.jupyter.widget-view+json": {
       "model_id": "140b3458933840568960b5eed823aae2",
       "version_major": 2,
       "version_minor": 0
      },
      "text/plain": [
       "Output()"
      ]
     },
     "metadata": {},
     "output_type": "display_data"
    },
    {
     "name": "stdout",
     "output_type": "stream",
     "text": [
      "| iter  48000 | 41.63 sec | train loss    0.005 \n",
      "| iter  48000 | validation loss:    0.004 \n"
     ]
    },
    {
     "name": "stderr",
     "output_type": "stream",
     "text": [
      "                                                                     "
     ]
    },
    {
     "name": "stdout",
     "output_type": "stream",
     "text": [
      "1\n"
     ]
    },
    {
     "name": "stderr",
     "output_type": "stream",
     "text": [
      "\r"
     ]
    },
    {
     "data": {
      "application/vnd.jupyter.widget-view+json": {
       "model_id": "6b86fb319c644f4d9a8bd1ff53536e9d",
       "version_major": 2,
       "version_minor": 0
      },
      "text/plain": [
       "VBox(children=(IntSlider(value=30, description='Elevation:', max=180, min=-180, step=45), IntSlider(value=45, …"
      ]
     },
     "metadata": {},
     "output_type": "display_data"
    },
    {
     "data": {
      "application/vnd.jupyter.widget-view+json": {
       "model_id": "3ffe10fbae334ac4a48619025d9edaca",
       "version_major": 2,
       "version_minor": 0
      },
      "text/plain": [
       "Output()"
      ]
     },
     "metadata": {},
     "output_type": "display_data"
    },
    {
     "name": "stdout",
     "output_type": "stream",
     "text": [
      "| iter  52000 | 43.68 sec | train loss    0.004 \n",
      "| iter  52000 | validation loss:    0.005 \n"
     ]
    },
    {
     "name": "stderr",
     "output_type": "stream",
     "text": [
      "                                                                     "
     ]
    },
    {
     "name": "stdout",
     "output_type": "stream",
     "text": [
      "1\n"
     ]
    },
    {
     "name": "stderr",
     "output_type": "stream",
     "text": [
      "\r"
     ]
    },
    {
     "data": {
      "application/vnd.jupyter.widget-view+json": {
       "model_id": "a0f5cecebfc449aba24c528ed1e6aeed",
       "version_major": 2,
       "version_minor": 0
      },
      "text/plain": [
       "VBox(children=(IntSlider(value=30, description='Elevation:', max=180, min=-180, step=45), IntSlider(value=45, …"
      ]
     },
     "metadata": {},
     "output_type": "display_data"
    },
    {
     "data": {
      "application/vnd.jupyter.widget-view+json": {
       "model_id": "6ff0ee4ecd1e4efba9cdcf9d9c70f74b",
       "version_major": 2,
       "version_minor": 0
      },
      "text/plain": [
       "Output()"
      ]
     },
     "metadata": {},
     "output_type": "display_data"
    },
    {
     "name": "stdout",
     "output_type": "stream",
     "text": [
      "| iter  56000 | 44.97 sec | train loss    0.004 \n",
      "| iter  56000 | validation loss:    0.003 \n"
     ]
    },
    {
     "name": "stderr",
     "output_type": "stream",
     "text": [
      "                                                                     "
     ]
    },
    {
     "name": "stdout",
     "output_type": "stream",
     "text": [
      "1\n"
     ]
    },
    {
     "name": "stderr",
     "output_type": "stream",
     "text": [
      "\r"
     ]
    },
    {
     "data": {
      "application/vnd.jupyter.widget-view+json": {
       "model_id": "47d7f766475b42758cc8a01f6ce2b415",
       "version_major": 2,
       "version_minor": 0
      },
      "text/plain": [
       "VBox(children=(IntSlider(value=30, description='Elevation:', max=180, min=-180, step=45), IntSlider(value=45, …"
      ]
     },
     "metadata": {},
     "output_type": "display_data"
    },
    {
     "data": {
      "application/vnd.jupyter.widget-view+json": {
       "model_id": "c260f21fbca54283ae9787bad13c875d",
       "version_major": 2,
       "version_minor": 0
      },
      "text/plain": [
       "Output()"
      ]
     },
     "metadata": {},
     "output_type": "display_data"
    },
    {
     "name": "stdout",
     "output_type": "stream",
     "text": [
      "| iter  60000 | 43.35 sec | train loss    0.005 \n",
      "| iter  60000 | validation loss:    0.006 \n"
     ]
    },
    {
     "name": "stderr",
     "output_type": "stream",
     "text": [
      "                                                                     "
     ]
    },
    {
     "name": "stdout",
     "output_type": "stream",
     "text": [
      "1\n"
     ]
    },
    {
     "name": "stderr",
     "output_type": "stream",
     "text": [
      "\r"
     ]
    },
    {
     "data": {
      "application/vnd.jupyter.widget-view+json": {
       "model_id": "61f84e6a344a4c87b105a8032e5bd979",
       "version_major": 2,
       "version_minor": 0
      },
      "text/plain": [
       "VBox(children=(IntSlider(value=30, description='Elevation:', max=180, min=-180, step=45), IntSlider(value=45, …"
      ]
     },
     "metadata": {},
     "output_type": "display_data"
    },
    {
     "data": {
      "application/vnd.jupyter.widget-view+json": {
       "model_id": "01142c7da3d149d5b36550f76ba05f01",
       "version_major": 2,
       "version_minor": 0
      },
      "text/plain": [
       "Output()"
      ]
     },
     "metadata": {},
     "output_type": "display_data"
    },
    {
     "name": "stdout",
     "output_type": "stream",
     "text": [
      "| iter  64000 | 39.26 sec | train loss    0.004 \n",
      "| iter  64000 | validation loss:    0.005 \n"
     ]
    },
    {
     "name": "stderr",
     "output_type": "stream",
     "text": [
      "                                                                     "
     ]
    },
    {
     "name": "stdout",
     "output_type": "stream",
     "text": [
      "1\n"
     ]
    },
    {
     "name": "stderr",
     "output_type": "stream",
     "text": [
      "\r"
     ]
    },
    {
     "data": {
      "application/vnd.jupyter.widget-view+json": {
       "model_id": "d5a295e99c40482a9c07f22bfb60b211",
       "version_major": 2,
       "version_minor": 0
      },
      "text/plain": [
       "VBox(children=(IntSlider(value=30, description='Elevation:', max=180, min=-180, step=45), IntSlider(value=45, …"
      ]
     },
     "metadata": {},
     "output_type": "display_data"
    },
    {
     "data": {
      "application/vnd.jupyter.widget-view+json": {
       "model_id": "e58e50a9e83b445d985728a46f8b0c0c",
       "version_major": 2,
       "version_minor": 0
      },
      "text/plain": [
       "Output()"
      ]
     },
     "metadata": {},
     "output_type": "display_data"
    },
    {
     "name": "stdout",
     "output_type": "stream",
     "text": [
      "| iter  68000 | 39.43 sec | train loss    0.004 \n",
      "| iter  68000 | validation loss:    0.003 \n"
     ]
    },
    {
     "name": "stderr",
     "output_type": "stream",
     "text": [
      "                                                                     "
     ]
    },
    {
     "name": "stdout",
     "output_type": "stream",
     "text": [
      "1\n"
     ]
    },
    {
     "name": "stderr",
     "output_type": "stream",
     "text": [
      "\r"
     ]
    },
    {
     "data": {
      "application/vnd.jupyter.widget-view+json": {
       "model_id": "740cc4fbfe084a048bb897d661880302",
       "version_major": 2,
       "version_minor": 0
      },
      "text/plain": [
       "VBox(children=(IntSlider(value=30, description='Elevation:', max=180, min=-180, step=45), IntSlider(value=45, …"
      ]
     },
     "metadata": {},
     "output_type": "display_data"
    },
    {
     "data": {
      "application/vnd.jupyter.widget-view+json": {
       "model_id": "16bd1bf3043d403c88652399b048e9ed",
       "version_major": 2,
       "version_minor": 0
      },
      "text/plain": [
       "Output()"
      ]
     },
     "metadata": {},
     "output_type": "display_data"
    },
    {
     "name": "stdout",
     "output_type": "stream",
     "text": [
      "| iter  72000 | 44.28 sec | train loss    0.003 \n",
      "| iter  72000 | validation loss:    0.003 \n"
     ]
    },
    {
     "name": "stderr",
     "output_type": "stream",
     "text": [
      "                                                                     "
     ]
    },
    {
     "name": "stdout",
     "output_type": "stream",
     "text": [
      "1\n"
     ]
    },
    {
     "name": "stderr",
     "output_type": "stream",
     "text": [
      "\r"
     ]
    },
    {
     "data": {
      "application/vnd.jupyter.widget-view+json": {
       "model_id": "0955d21dd28542fd8e31c4601960926b",
       "version_major": 2,
       "version_minor": 0
      },
      "text/plain": [
       "VBox(children=(IntSlider(value=30, description='Elevation:', max=180, min=-180, step=45), IntSlider(value=45, …"
      ]
     },
     "metadata": {},
     "output_type": "display_data"
    },
    {
     "data": {
      "application/vnd.jupyter.widget-view+json": {
       "model_id": "34ab5f45c0ef41c09d7ea81869416a4e",
       "version_major": 2,
       "version_minor": 0
      },
      "text/plain": [
       "Output()"
      ]
     },
     "metadata": {},
     "output_type": "display_data"
    },
    {
     "name": "stdout",
     "output_type": "stream",
     "text": [
      "| iter  76000 | 45.82 sec | train loss    0.005 \n",
      "| iter  76000 | validation loss:    0.003 \n"
     ]
    },
    {
     "name": "stderr",
     "output_type": "stream",
     "text": [
      "                                                                     "
     ]
    },
    {
     "name": "stdout",
     "output_type": "stream",
     "text": [
      "1\n"
     ]
    },
    {
     "name": "stderr",
     "output_type": "stream",
     "text": [
      "\r"
     ]
    },
    {
     "data": {
      "application/vnd.jupyter.widget-view+json": {
       "model_id": "d4e84999dfd34708a5383470e7090d5d",
       "version_major": 2,
       "version_minor": 0
      },
      "text/plain": [
       "VBox(children=(IntSlider(value=30, description='Elevation:', max=180, min=-180, step=45), IntSlider(value=45, …"
      ]
     },
     "metadata": {},
     "output_type": "display_data"
    },
    {
     "data": {
      "application/vnd.jupyter.widget-view+json": {
       "model_id": "9cc8efcce9a847fc9f2c6c7e43961e76",
       "version_major": 2,
       "version_minor": 0
      },
      "text/plain": [
       "Output()"
      ]
     },
     "metadata": {},
     "output_type": "display_data"
    },
    {
     "name": "stdout",
     "output_type": "stream",
     "text": [
      "| iter  80000 | 46.27 sec | train loss    0.004 \n",
      "| iter  80000 | validation loss:    0.004 \n"
     ]
    },
    {
     "name": "stderr",
     "output_type": "stream",
     "text": [
      "                                                                     "
     ]
    },
    {
     "name": "stdout",
     "output_type": "stream",
     "text": [
      "1\n"
     ]
    },
    {
     "name": "stderr",
     "output_type": "stream",
     "text": [
      "\r"
     ]
    },
    {
     "data": {
      "application/vnd.jupyter.widget-view+json": {
       "model_id": "bff873fafb83445a8140ffa56519c13c",
       "version_major": 2,
       "version_minor": 0
      },
      "text/plain": [
       "VBox(children=(IntSlider(value=30, description='Elevation:', max=180, min=-180, step=45), IntSlider(value=45, …"
      ]
     },
     "metadata": {},
     "output_type": "display_data"
    },
    {
     "data": {
      "application/vnd.jupyter.widget-view+json": {
       "model_id": "c308a360b74243d1a91d95c05968b231",
       "version_major": 2,
       "version_minor": 0
      },
      "text/plain": [
       "Output()"
      ]
     },
     "metadata": {},
     "output_type": "display_data"
    },
    {
     "name": "stdout",
     "output_type": "stream",
     "text": [
      "| iter  84000 | 45.10 sec | train loss    0.003 \n",
      "| iter  84000 | validation loss:    0.004 \n"
     ]
    },
    {
     "name": "stderr",
     "output_type": "stream",
     "text": [
      "                                                                     "
     ]
    },
    {
     "name": "stdout",
     "output_type": "stream",
     "text": [
      "1\n"
     ]
    },
    {
     "name": "stderr",
     "output_type": "stream",
     "text": [
      "\r"
     ]
    },
    {
     "data": {
      "application/vnd.jupyter.widget-view+json": {
       "model_id": "74eeda7821444ad4900c5e9160f968b0",
       "version_major": 2,
       "version_minor": 0
      },
      "text/plain": [
       "VBox(children=(IntSlider(value=30, description='Elevation:', max=180, min=-180, step=45), IntSlider(value=45, …"
      ]
     },
     "metadata": {},
     "output_type": "display_data"
    },
    {
     "data": {
      "application/vnd.jupyter.widget-view+json": {
       "model_id": "d632d035c6314248b2ac1ba89a6a8393",
       "version_major": 2,
       "version_minor": 0
      },
      "text/plain": [
       "Output()"
      ]
     },
     "metadata": {},
     "output_type": "display_data"
    },
    {
     "name": "stdout",
     "output_type": "stream",
     "text": [
      "| iter  88000 | 39.13 sec | train loss    0.004 \n",
      "| iter  88000 | validation loss:    0.002 \n"
     ]
    },
    {
     "name": "stderr",
     "output_type": "stream",
     "text": [
      "                                                                     "
     ]
    },
    {
     "name": "stdout",
     "output_type": "stream",
     "text": [
      "1\n"
     ]
    },
    {
     "name": "stderr",
     "output_type": "stream",
     "text": [
      "\r"
     ]
    },
    {
     "data": {
      "application/vnd.jupyter.widget-view+json": {
       "model_id": "e357bd29f01946e386205c28f5aac196",
       "version_major": 2,
       "version_minor": 0
      },
      "text/plain": [
       "VBox(children=(IntSlider(value=30, description='Elevation:', max=180, min=-180, step=45), IntSlider(value=45, …"
      ]
     },
     "metadata": {},
     "output_type": "display_data"
    },
    {
     "data": {
      "application/vnd.jupyter.widget-view+json": {
       "model_id": "e1654634ab6743e589080dbd0665be81",
       "version_major": 2,
       "version_minor": 0
      },
      "text/plain": [
       "Output()"
      ]
     },
     "metadata": {},
     "output_type": "display_data"
    },
    {
     "name": "stdout",
     "output_type": "stream",
     "text": [
      "| iter  92000 | 34.25 sec | train loss    0.003 \n",
      "| iter  92000 | validation loss:    0.003 \n"
     ]
    },
    {
     "name": "stderr",
     "output_type": "stream",
     "text": [
      "                                                                     "
     ]
    },
    {
     "name": "stdout",
     "output_type": "stream",
     "text": [
      "1\n"
     ]
    },
    {
     "name": "stderr",
     "output_type": "stream",
     "text": [
      "\r"
     ]
    },
    {
     "data": {
      "application/vnd.jupyter.widget-view+json": {
       "model_id": "f4db25d83a6d4cddb3d56cb5186bd16e",
       "version_major": 2,
       "version_minor": 0
      },
      "text/plain": [
       "VBox(children=(IntSlider(value=30, description='Elevation:', max=180, min=-180, step=45), IntSlider(value=45, …"
      ]
     },
     "metadata": {},
     "output_type": "display_data"
    },
    {
     "data": {
      "application/vnd.jupyter.widget-view+json": {
       "model_id": "5f0c23391b20479c98b004d688119ffe",
       "version_major": 2,
       "version_minor": 0
      },
      "text/plain": [
       "Output()"
      ]
     },
     "metadata": {},
     "output_type": "display_data"
    },
    {
     "name": "stdout",
     "output_type": "stream",
     "text": [
      "| iter  96000 | 41.98 sec | train loss    0.004 \n",
      "| iter  96000 | validation loss:    0.004 \n"
     ]
    },
    {
     "name": "stderr",
     "output_type": "stream",
     "text": [
      "                                                                     "
     ]
    },
    {
     "name": "stdout",
     "output_type": "stream",
     "text": [
      "1\n"
     ]
    },
    {
     "name": "stderr",
     "output_type": "stream",
     "text": [
      "\r"
     ]
    },
    {
     "data": {
      "application/vnd.jupyter.widget-view+json": {
       "model_id": "2850f3c9d6104ebf8a695a0f343d8675",
       "version_major": 2,
       "version_minor": 0
      },
      "text/plain": [
       "VBox(children=(IntSlider(value=30, description='Elevation:', max=180, min=-180, step=45), IntSlider(value=45, …"
      ]
     },
     "metadata": {},
     "output_type": "display_data"
    },
    {
     "data": {
      "application/vnd.jupyter.widget-view+json": {
       "model_id": "e2d4364a5b9d4b1596885f48f51fea41",
       "version_major": 2,
       "version_minor": 0
      },
      "text/plain": [
       "Output()"
      ]
     },
     "metadata": {},
     "output_type": "display_data"
    },
    {
     "name": "stdout",
     "output_type": "stream",
     "text": [
      "| iter 100000 | 41.55 sec | train loss    0.005 \n",
      "| iter 100000 | validation loss:    0.006 \n"
     ]
    },
    {
     "name": "stderr",
     "output_type": "stream",
     "text": [
      "                                                                     "
     ]
    },
    {
     "name": "stdout",
     "output_type": "stream",
     "text": [
      "1\n"
     ]
    },
    {
     "name": "stderr",
     "output_type": "stream",
     "text": [
      "\r"
     ]
    },
    {
     "data": {
      "application/vnd.jupyter.widget-view+json": {
       "model_id": "42ccc7b8ae21422faf79ff14dd2d4aa8",
       "version_major": 2,
       "version_minor": 0
      },
      "text/plain": [
       "VBox(children=(IntSlider(value=30, description='Elevation:', max=180, min=-180, step=45), IntSlider(value=45, …"
      ]
     },
     "metadata": {},
     "output_type": "display_data"
    },
    {
     "data": {
      "application/vnd.jupyter.widget-view+json": {
       "model_id": "f00eeb21ae9945cdad81416420ea344e",
       "version_major": 2,
       "version_minor": 0
      },
      "text/plain": [
       "Output()"
      ]
     },
     "metadata": {},
     "output_type": "display_data"
    }
   ],
   "source": [
    "run_train(vf=vf, \n",
    "            train_dataloader=train_dataloader,\n",
    "            val_dataloader=val_dataloader,\n",
    "            run_parameters=run_parameters, \n",
    "            manifold=manifold, \n",
    "            ema_vf=ema_vf, dataset=dataset, \n",
    "            gt_obs=gt_obs, \n",
    "            run_name=\"sine_ambient_S2\")"
   ]
  },
  {
   "cell_type": "code",
   "execution_count": 11,
   "metadata": {},
   "outputs": [],
   "source": [
    "vf = get_model(\"sine_ambient_S2\")"
   ]
  },
  {
   "cell_type": "code",
   "execution_count": 18,
   "metadata": {},
   "outputs": [
    {
     "name": "stderr",
     "output_type": "stream",
     "text": [
      "                                                                     \r"
     ]
    },
    {
     "data": {
      "image/png": "[encoded data removed]",
      "text/plain": [
       "<Figure size 600x600 with 1 Axes>"
      ]
     },
     "metadata": {},
     "output_type": "display_data"
    }
   ],
   "source": [
    "class_labels = dataset.get_label_maping()\n",
    "dtw = []\n",
    "for label_name in list(class_labels.keys()):\n",
    "    results = []\n",
    "    samples = []\n",
    "    errors = []\n",
    "    for _ in range(20): \n",
    "        label = torch.tensor(class_labels[label_name],dtype=torch.long).unsqueeze(0)\n",
    "        res, samp, paths = infer_model(\n",
    "                                model=vf, \n",
    "                                start=gt_obs[class_labels[label_name],0,:run_parameters['data']['dim']], \n",
    "                                manifold=manifold,\n",
    "                                label=label,\n",
    "                                dim_manifold=run_parameters['data']['dim'],\n",
    "                                model_horizon=run_parameters['data']['horizon_size'],\n",
    "                                inference_horizon=run_parameters['data']['inference_horizon'],\n",
    "                                sample_points=240,\n",
    "                                mean=run_parameters['data']['mean'],\n",
    "                                std=run_parameters['data']['std'],\n",
    "                                project_infered=True,\n",
    "                                step_size=0.05\n",
    "                            )\n",
    "        results.append(res)\n",
    "        samples.append(samp)\n",
    "\n",
    "        # dtw.append(dtw_distance(A=res, B=gt_obs[0,:,:3], dist_func=spherical_distance))\n",
    "    plot_flow_on_sphere(results, \n",
    "                        samples_list=samples, \n",
    "                        gt_samples=gt_obs[class_labels[label_name]], \n",
    "                        label=label_name, \n",
    "                        dynamic=False, one_canvas=True, plot_samples=False, line_type='--', axis_off=True, title=\"Sine shaped policy from ambient distribution\")"
   ]
  },
  {
   "cell_type": "code",
   "execution_count": 16,
   "metadata": {},
   "outputs": [],
   "source": [
    "dtw = []\n",
    "for i in range(len(results)):\n",
    "    dtw.append(dtw_distance(results[i], gt_obs[0,:,:3], dist_func=spherical_distance))"
   ]
  },
  {
   "cell_type": "code",
   "execution_count": 17,
   "metadata": {},
   "outputs": [
    {
     "name": "stdout",
     "output_type": "stream",
     "text": [
      "43.259506 17.859404\n"
     ]
    }
   ],
   "source": [
    "dtw = np.array(dtw)\n",
    "print(dtw.mean(), dtw.std())"
   ]
  },
  {
   "cell_type": "code",
   "execution_count": null,
   "metadata": {},
   "outputs": [],
   "source": []
  }
 ],
 "metadata": {
  "kernelspec": {
   "display_name": "ml_env",
   "language": "python",
   "name": "python3"
  },
  "language_info": {
   "codemirror_mode": {
    "name": "ipython",
    "version": 3
   },
   "file_extension": ".py",
   "mimetype": "text/x-python",
   "name": "python",
   "nbconvert_exporter": "python",
   "pygments_lexer": "ipython3",
   "version": "3.12.7"
  }
 },
 "nbformat": 4,
 "nbformat_minor": 2
}
