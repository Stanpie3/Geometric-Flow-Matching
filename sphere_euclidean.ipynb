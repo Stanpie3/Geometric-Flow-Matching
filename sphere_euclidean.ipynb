{
 "cells": [
  {
   "cell_type": "code",
   "execution_count": 1,
   "metadata": {},
   "outputs": [
    {
     "name": "stdout",
     "output_type": "stream",
     "text": [
      "Using LASA DataSet from /home/stanislav/anaconda3/envs/ml_env/lib/python3.12/site-packages/pyLasaDataset/resources/LASAHandwritingDataset/DataSet\n"
     ]
    }
   ],
   "source": [
    "import torch\n",
    "import yaml\n",
    "import time\n",
    "import numpy as np\n",
    "from pathlib import Path\n",
    "from torch.utils.data import DataLoader\n",
    "from torch_ema import ExponentialMovingAverage\n",
    "\n",
    "from models.state_mlp import StateMLP\n",
    "from data.lasa_data import StatePyLASADataset, wrap\n",
    "from utils.plotting import *\n",
    "from utils.manifold_utils import *\n",
    "\n",
    "from flow_matching.utils.manifolds import Manifold, Sphere, Euclidean\n",
    "from flow_matching.path import GeodesicProbPath\n",
    "from flow_matching.path.scheduler import CondOTScheduler\n",
    "\n",
    "import matplotlib.pyplot as plt\n",
    "from mpl_toolkits.mplot3d import Axes3D\n",
    "\n",
    "from soft_dtw import SoftDTW\n",
    "import os\n",
    "from tqdm import tqdm\n",
    "from typing import Dict, Any"
   ]
  },
  {
   "cell_type": "code",
   "execution_count": 2,
   "metadata": {},
   "outputs": [
    {
     "data": {
      "text/plain": [
       "<torch._C.Generator at 0x743b80373bf0>"
      ]
     },
     "execution_count": 2,
     "metadata": {},
     "output_type": "execute_result"
    }
   ],
   "source": [
    "torch.manual_seed(3420934659826)"
   ]
  },
  {
   "cell_type": "code",
   "execution_count": 3,
   "metadata": {},
   "outputs": [
    {
     "data": {
      "text/plain": [
       "{'train': {'lr': 0.0001,\n",
       "  'epochs': 100001,\n",
       "  'batch_size': 100,\n",
       "  'inf_every': 4000,\n",
       "  'print_every': 4000,\n",
       "  'device': 'cpu',\n",
       "  'inf_runs_num': 1,\n",
       "  'inf_run_step': 0.05},\n",
       " 'model': {'hidden_dim': 96, 'num_layers': 6, 'embed_dim': 24},\n",
       " 'data': {'dim': 3,\n",
       "  'manifold': 'Sphere',\n",
       "  'datasets': ['Sine'],\n",
       "  'horizon_size': 20,\n",
       "  'inference_horizon': 10,\n",
       "  'scale_factor': 2.0,\n",
       "  'downsample': 5,\n",
       "  'sample_points': 300,\n",
       "  'mean': 0.0,\n",
       "  'std': 0.5},\n",
       " 'ema': {'warmup': 2000, 'update': 5, 'decay': 0.999},\n",
       " 'scheduler': {'step': 10000, 'gamma': 0.5}}"
      ]
     },
     "execution_count": 3,
     "metadata": {},
     "output_type": "execute_result"
    }
   ],
   "source": [
    "run_parameters =  yaml.safe_load(Path(\"./configs/sphere_euclidean.yaml\").read_text())\n",
    "run_parameters"
   ]
  },
  {
   "cell_type": "code",
   "execution_count": 4,
   "metadata": {},
   "outputs": [
    {
     "name": "stdout",
     "output_type": "stream",
     "text": [
      "[0, 1, 2, 3, 4, 5] [6]\n"
     ]
    }
   ],
   "source": [
    "manifold_types = {'None' : None, 'Euclidean': Euclidean(), 'Sphere':Sphere()}\n",
    "train_sets= list(range(6)) #+ list(range(7, 13)) + list(range(14, 20)) + list(range(21, 27))\n",
    "val_sets = [6]#, 13, 20, 27]\n",
    "print(train_sets, val_sets)"
   ]
  },
  {
   "cell_type": "code",
   "execution_count": 5,
   "metadata": {},
   "outputs": [
    {
     "name": "stdout",
     "output_type": "stream",
     "text": [
      "7\n",
      "1\n",
      "6\n",
      "torch.Size([1, 200, 7])\n"
     ]
    }
   ],
   "source": [
    "manifold = manifold_types[run_parameters['data']['manifold']]\n",
    "LASA_datasets = run_parameters['data']['datasets']\n",
    "\n",
    "dataset = StatePyLASADataset(LASA_datasets,\n",
    "                               train=train_sets,\n",
    "                               horizon_size=run_parameters['data']['horizon_size'],\n",
    "                               scaling_factor=run_parameters['data']['scale_factor'],\n",
    "                               downsample = run_parameters['data']['downsample'],\n",
    "                               manifold=manifold,\n",
    "                               dim_to=run_parameters['data']['dim'])\n",
    "\n",
    "print(dataset.__len__())\n",
    "\n",
    "train_dataset = torch.utils.data.Subset(dataset, train_sets)\n",
    "\n",
    "test_dataset = torch.utils.data.Subset(dataset, val_sets)\n",
    "\n",
    "train_dataloader = DataLoader(train_dataset,\n",
    "                       batch_size=run_parameters['train']['batch_size'],\n",
    "                       shuffle=True)\n",
    "\n",
    "val_dataloader = DataLoader(test_dataset,\n",
    "                    batch_size=run_parameters['train']['batch_size'],\n",
    "                    shuffle=True)\n",
    "\n",
    "test_dataloader = DataLoader(test_dataset,\n",
    "                    batch_size=1,\n",
    "                    shuffle=False)\n",
    "\n",
    "inf_obs, _, label = next(iter(test_dataloader))\n",
    "inf_obs = inf_obs[:, :2]\n",
    "\n",
    "gt_test = DataLoader(test_dataset,\n",
    "                    batch_size=4,\n",
    "                    shuffle=False)\n",
    "\n",
    "print(test_dataset.__len__())\n",
    "print(train_dataset.__len__())\n",
    "\n",
    "gt_obs, gt_horizon, label = next(iter(gt_test))\n",
    "print(gt_obs.shape)"
   ]
  },
  {
   "cell_type": "code",
   "execution_count": 6,
   "metadata": {},
   "outputs": [],
   "source": [
    "def save_config_to_yaml(config: Dict[str, Any], filepath: str) -> None:\n",
    "    try:\n",
    "        with open(filepath, 'w') as f:\n",
    "            yaml.dump(config, f, default_flow_style=False)  \n",
    "    except Exception as e:\n",
    "        raise IOError(f\"Failed to save config to {filepath}\") from e"
   ]
  },
  {
   "cell_type": "code",
   "execution_count": 7,
   "metadata": {},
   "outputs": [
    {
     "name": "stdout",
     "output_type": "stream",
     "text": [
      "Learnable params number: 84304\n"
     ]
    }
   ],
   "source": [
    "vf = StateMLP(\n",
    "    action_dim=run_parameters['data']['dim'],\n",
    "    hidden_dim=run_parameters['model']['hidden_dim'],\n",
    "    horizon_size=run_parameters['data']['horizon_size'],\n",
    "    num_layers=run_parameters['model']['num_layers'],\n",
    "    label_embedding_dim=run_parameters['model']['embed_dim'],\n",
    "    num_classes=len(LASA_datasets)\n",
    ")\n",
    "\n",
    "ema_vf = ExponentialMovingAverage(\n",
    "    vf.parameters(),\n",
    "    decay = run_parameters['ema']['decay'],\n",
    ")\n",
    "\n",
    "model_parameters = filter(lambda p: p.requires_grad, vf.parameters())\n",
    "params = sum([np.prod(p.size()) for p in model_parameters])\n",
    "print(\"Learnable params number:\", params)"
   ]
  },
  {
   "cell_type": "code",
   "execution_count": 10,
   "metadata": {},
   "outputs": [],
   "source": [
    "import torch\n",
    "import matplotlib.pyplot as plt\n",
    "import time\n",
    "\n",
    "def run_train(vf, train_dataloader, \n",
    "              val_dataloader, \n",
    "              run_parameters, \n",
    "              manifold, \n",
    "              ema_vf, dataset, \n",
    "              gt_obs, \n",
    "              run_name, run_path=\"./runs\"):\n",
    "    save_path = os.path.join(run_path, run_name)\n",
    "    os.makedirs(save_path, exist_ok=True)\n",
    "    save_config_to_yaml(run_parameters, os.path.join(save_path, 'config.yaml'))\n",
    "    \n",
    "    device = run_parameters['train']['device']\n",
    "    vf.to(device)\n",
    "\n",
    "    optim = torch.optim.Adam(vf.parameters(), lr=run_parameters['train']['lr'])\n",
    "    scheduler = torch.optim.lr_scheduler.StepLR(optim, \n",
    "                                               step_size=run_parameters['scheduler']['step'], \n",
    "                                               gamma=run_parameters['scheduler']['gamma'])\n",
    "\n",
    "    path = GeodesicProbPath(scheduler=CondOTScheduler(), manifold=Euclidean())\n",
    "\n",
    "    train_losses = []\n",
    "    val_losses = []\n",
    "    lrs = []\n",
    "    best_val_loss = float('inf')\n",
    "\n",
    "    start_time = time.time()\n",
    "    for i in range(run_parameters['train']['epochs']):\n",
    "        for batch in train_dataloader:\n",
    "            optim.zero_grad()\n",
    "\n",
    "            train_loss = step_euc_sphere(vf=vf, \n",
    "                                        batch=batch, \n",
    "                                        run_parameters=run_parameters, \n",
    "                                        path=path, \n",
    "                                        device=device)\n",
    "            \n",
    "            train_loss.backward()\n",
    "            optim.step()\n",
    "\n",
    "            if i > run_parameters['ema']['warmup'] and i % run_parameters['ema']['update'] == 0: \n",
    "                ema_vf.update()\n",
    "\n",
    "            if i % run_parameters['train']['print_every'] == 0:\n",
    "                elapsed = time.time() - start_time\n",
    "                print('| iter {:6d} | {:5.2f} sec | train loss {:8.3f} '\n",
    "                      .format(i, elapsed, train_loss.item()))\n",
    "                \n",
    "                plt.figure()\n",
    "                plt.plot(train_losses, label='Training Loss')\n",
    "                plt.plot(val_losses, label='Validation Loss')\n",
    "                plt.xlabel('Iterations (x print_every)')\n",
    "                plt.ylabel('Loss')\n",
    "                plt.legend()\n",
    "                plt.savefig(os.path.join(save_path,'loss_plot.png'))\n",
    "                plt.close()\n",
    "\n",
    "                plt.figure()\n",
    "                plt.plot(lrs, label='Learning rate')\n",
    "                plt.xlabel('Iterations (x print_every)')\n",
    "                plt.ylabel('lr')\n",
    "                plt.legend()\n",
    "                plt.savefig(os.path.join(save_path,'lr_plot.png'))\n",
    "                plt.close()\n",
    "                \n",
    "                with torch.no_grad():\n",
    "                    ema_vf.store()\n",
    "                    ema_vf.copy_to()\n",
    "                    val_batch = next(iter(val_dataloader))\n",
    "                    loss_val = step_euc_sphere(vf=vf, \n",
    "                                                batch=val_batch, \n",
    "                                                run_parameters=run_parameters, \n",
    "                                                path=path, \n",
    "                                                device=device)\n",
    "                    train_losses.append(train_loss.item())\n",
    "                    val_losses.append(loss_val.item())\n",
    "                    if loss_val.item() < best_val_loss:\n",
    "                        best_val_loss = loss_val.item()\n",
    "                        torch.save(vf.state_dict(), os.path.join(save_path, 'best_model.pth'))\n",
    "                    print('| iter {:6d} | validation loss: {:8.3f} '.format(i, loss_val.item()))\n",
    "\n",
    "                    infered = run_inference(manifold=Euclidean(),\n",
    "                                model=vf,\n",
    "                                run_parameters=run_parameters,\n",
    "                                class_labels=dataset.get_label_maping(),\n",
    "                                gt_obs=gt_obs,\n",
    "                                inference_type=\"Euclidean sphere\")\n",
    "                    for label_name in infered.keys():\n",
    "                        print(len(infered[label_name]['results']))\n",
    "                        plot_3d_points_interactive(infered[label_name]['results'])\n",
    "                    ema_vf.restore()\n",
    "                start_time = time.time()\n",
    "        lrs.append(scheduler.get_last_lr()[0])\n",
    "        scheduler.step()\n",
    "        \n",
    "\n",
    "\n",
    "    vf.load_state_dict(torch.load(os.path.join(save_path,'best_model.pth'), weights_only=True))\n",
    "    # with torch.no_grad():\n",
    "    #     infered = run_inference(manifold=manifold,\n",
    "    #                             model=vf,\n",
    "    #                             run_parameters=run_parameters,\n",
    "    #                             class_labels=dataset.get_label_maping(),\n",
    "    #                             gt_obs=gt_obs)\n",
    "    #     for label_name in infered.keys():\n",
    "    #         plot_flow_on_sphere(infered[label_name]['results'], \n",
    "    #                             infered[label_name]['samples'], \n",
    "    #                             gt_obs[dataset.get_label_maping()[label_name]],\n",
    "    #                             label=label_name)\n",
    "    #         plt.savefig(os.path.join(save_path, f'best_model_flow_{label_name}.png'))\n",
    "    #         plt.close()"
   ]
  },
  {
   "cell_type": "code",
   "execution_count": 11,
   "metadata": {},
   "outputs": [
    {
     "name": "stdout",
     "output_type": "stream",
     "text": [
      "| iter      0 |  0.01 sec | train loss    0.204 \n",
      "| iter      0 | validation loss:    0.176 \n"
     ]
    },
    {
     "name": "stderr",
     "output_type": "stream",
     "text": [
      "                                                                     "
     ]
    },
    {
     "name": "stdout",
     "output_type": "stream",
     "text": [
      "1\n"
     ]
    },
    {
     "name": "stderr",
     "output_type": "stream",
     "text": [
      "\r"
     ]
    },
    {
     "data": {
      "application/vnd.jupyter.widget-view+json": {
       "model_id": "20703bb8ac7e4bbe95dbbe8de9b350cd",
       "version_major": 2,
       "version_minor": 0
      },
      "text/plain": [
       "VBox(children=(IntSlider(value=30, description='Elevation:', max=180, min=-180, step=45), IntSlider(value=45, …"
      ]
     },
     "metadata": {},
     "output_type": "display_data"
    },
    {
     "data": {
      "application/vnd.jupyter.widget-view+json": {
       "model_id": "2ffcb5b9e63147b7b98d9448208b9387",
       "version_major": 2,
       "version_minor": 0
      },
      "text/plain": [
       "Output()"
      ]
     },
     "metadata": {},
     "output_type": "display_data"
    },
    {
     "name": "stdout",
     "output_type": "stream",
     "text": [
      "| iter   4000 | 40.46 sec | train loss    0.013 \n",
      "| iter   4000 | validation loss:    0.021 \n"
     ]
    },
    {
     "name": "stderr",
     "output_type": "stream",
     "text": [
      "                                                                     "
     ]
    },
    {
     "name": "stdout",
     "output_type": "stream",
     "text": [
      "1\n"
     ]
    },
    {
     "name": "stderr",
     "output_type": "stream",
     "text": [
      "\r"
     ]
    },
    {
     "data": {
      "application/vnd.jupyter.widget-view+json": {
       "model_id": "0df9d84c0322481e98e0867d4a1f05a6",
       "version_major": 2,
       "version_minor": 0
      },
      "text/plain": [
       "VBox(children=(IntSlider(value=30, description='Elevation:', max=180, min=-180, step=45), IntSlider(value=45, …"
      ]
     },
     "metadata": {},
     "output_type": "display_data"
    },
    {
     "data": {
      "application/vnd.jupyter.widget-view+json": {
       "model_id": "fcec8bc972a94fd395c59576c88db4d7",
       "version_major": 2,
       "version_minor": 0
      },
      "text/plain": [
       "Output()"
      ]
     },
     "metadata": {},
     "output_type": "display_data"
    },
    {
     "name": "stdout",
     "output_type": "stream",
     "text": [
      "| iter   8000 | 36.55 sec | train loss    0.009 \n",
      "| iter   8000 | validation loss:    0.006 \n"
     ]
    },
    {
     "name": "stderr",
     "output_type": "stream",
     "text": [
      "                                                                     "
     ]
    },
    {
     "name": "stdout",
     "output_type": "stream",
     "text": [
      "1\n"
     ]
    },
    {
     "name": "stderr",
     "output_type": "stream",
     "text": [
      "\r"
     ]
    },
    {
     "data": {
      "application/vnd.jupyter.widget-view+json": {
       "model_id": "9c3a167ad1ec401d8cdea2926bf66458",
       "version_major": 2,
       "version_minor": 0
      },
      "text/plain": [
       "VBox(children=(IntSlider(value=30, description='Elevation:', max=180, min=-180, step=45), IntSlider(value=45, …"
      ]
     },
     "metadata": {},
     "output_type": "display_data"
    },
    {
     "data": {
      "application/vnd.jupyter.widget-view+json": {
       "model_id": "c3b5140175ac4fefbb496e11d50dd5c0",
       "version_major": 2,
       "version_minor": 0
      },
      "text/plain": [
       "Output()"
      ]
     },
     "metadata": {},
     "output_type": "display_data"
    },
    {
     "name": "stdout",
     "output_type": "stream",
     "text": [
      "| iter  12000 | 36.50 sec | train loss    0.008 \n",
      "| iter  12000 | validation loss:    0.010 \n"
     ]
    },
    {
     "name": "stderr",
     "output_type": "stream",
     "text": [
      "                                                                     "
     ]
    },
    {
     "name": "stdout",
     "output_type": "stream",
     "text": [
      "1\n"
     ]
    },
    {
     "name": "stderr",
     "output_type": "stream",
     "text": [
      "\r"
     ]
    },
    {
     "data": {
      "application/vnd.jupyter.widget-view+json": {
       "model_id": "a751f7659d404ac595e0ea19492d89de",
       "version_major": 2,
       "version_minor": 0
      },
      "text/plain": [
       "VBox(children=(IntSlider(value=30, description='Elevation:', max=180, min=-180, step=45), IntSlider(value=45, …"
      ]
     },
     "metadata": {},
     "output_type": "display_data"
    },
    {
     "data": {
      "application/vnd.jupyter.widget-view+json": {
       "model_id": "825cfff12e6d4020a99eaaf53baf27b1",
       "version_major": 2,
       "version_minor": 0
      },
      "text/plain": [
       "Output()"
      ]
     },
     "metadata": {},
     "output_type": "display_data"
    },
    {
     "name": "stdout",
     "output_type": "stream",
     "text": [
      "| iter  16000 | 35.91 sec | train loss    0.010 \n",
      "| iter  16000 | validation loss:    0.008 \n"
     ]
    },
    {
     "name": "stderr",
     "output_type": "stream",
     "text": [
      "                                                                     "
     ]
    },
    {
     "name": "stdout",
     "output_type": "stream",
     "text": [
      "1\n"
     ]
    },
    {
     "name": "stderr",
     "output_type": "stream",
     "text": [
      "\r"
     ]
    },
    {
     "data": {
      "application/vnd.jupyter.widget-view+json": {
       "model_id": "1870ebe0b23c49148b0f665caa4c9f3a",
       "version_major": 2,
       "version_minor": 0
      },
      "text/plain": [
       "VBox(children=(IntSlider(value=30, description='Elevation:', max=180, min=-180, step=45), IntSlider(value=45, …"
      ]
     },
     "metadata": {},
     "output_type": "display_data"
    },
    {
     "data": {
      "application/vnd.jupyter.widget-view+json": {
       "model_id": "de58f676380841d2a099da99796267bb",
       "version_major": 2,
       "version_minor": 0
      },
      "text/plain": [
       "Output()"
      ]
     },
     "metadata": {},
     "output_type": "display_data"
    },
    {
     "name": "stdout",
     "output_type": "stream",
     "text": [
      "| iter  20000 | 35.73 sec | train loss    0.005 \n",
      "| iter  20000 | validation loss:    0.007 \n"
     ]
    },
    {
     "name": "stderr",
     "output_type": "stream",
     "text": [
      "                                                                     "
     ]
    },
    {
     "name": "stdout",
     "output_type": "stream",
     "text": [
      "1\n"
     ]
    },
    {
     "name": "stderr",
     "output_type": "stream",
     "text": [
      "\r"
     ]
    },
    {
     "data": {
      "application/vnd.jupyter.widget-view+json": {
       "model_id": "a9553a346d5046b88724d0826e151956",
       "version_major": 2,
       "version_minor": 0
      },
      "text/plain": [
       "VBox(children=(IntSlider(value=30, description='Elevation:', max=180, min=-180, step=45), IntSlider(value=45, …"
      ]
     },
     "metadata": {},
     "output_type": "display_data"
    },
    {
     "data": {
      "application/vnd.jupyter.widget-view+json": {
       "model_id": "0fcf425e49ac4ba79cf20108cc7b21e0",
       "version_major": 2,
       "version_minor": 0
      },
      "text/plain": [
       "Output()"
      ]
     },
     "metadata": {},
     "output_type": "display_data"
    },
    {
     "name": "stdout",
     "output_type": "stream",
     "text": [
      "| iter  24000 | 37.25 sec | train loss    0.005 \n",
      "| iter  24000 | validation loss:    0.005 \n"
     ]
    },
    {
     "name": "stderr",
     "output_type": "stream",
     "text": [
      "                                                                     "
     ]
    },
    {
     "name": "stdout",
     "output_type": "stream",
     "text": [
      "1\n"
     ]
    },
    {
     "name": "stderr",
     "output_type": "stream",
     "text": [
      "\r"
     ]
    },
    {
     "data": {
      "application/vnd.jupyter.widget-view+json": {
       "model_id": "d9f5f15cdefb41d78c1d5f15e5373f00",
       "version_major": 2,
       "version_minor": 0
      },
      "text/plain": [
       "VBox(children=(IntSlider(value=30, description='Elevation:', max=180, min=-180, step=45), IntSlider(value=45, …"
      ]
     },
     "metadata": {},
     "output_type": "display_data"
    },
    {
     "data": {
      "application/vnd.jupyter.widget-view+json": {
       "model_id": "e543a2ba83c34b53a49cd7e23d8992c4",
       "version_major": 2,
       "version_minor": 0
      },
      "text/plain": [
       "Output()"
      ]
     },
     "metadata": {},
     "output_type": "display_data"
    },
    {
     "name": "stdout",
     "output_type": "stream",
     "text": [
      "| iter  28000 | 36.39 sec | train loss    0.004 \n",
      "| iter  28000 | validation loss:    0.008 \n"
     ]
    },
    {
     "name": "stderr",
     "output_type": "stream",
     "text": [
      "                                                                     "
     ]
    },
    {
     "name": "stdout",
     "output_type": "stream",
     "text": [
      "1\n"
     ]
    },
    {
     "name": "stderr",
     "output_type": "stream",
     "text": [
      "\r"
     ]
    },
    {
     "data": {
      "application/vnd.jupyter.widget-view+json": {
       "model_id": "d37a798da4d84a7d8c5ceab7cfdaa8df",
       "version_major": 2,
       "version_minor": 0
      },
      "text/plain": [
       "VBox(children=(IntSlider(value=30, description='Elevation:', max=180, min=-180, step=45), IntSlider(value=45, …"
      ]
     },
     "metadata": {},
     "output_type": "display_data"
    },
    {
     "data": {
      "application/vnd.jupyter.widget-view+json": {
       "model_id": "112918f848c84517a1aa007a23e3a044",
       "version_major": 2,
       "version_minor": 0
      },
      "text/plain": [
       "Output()"
      ]
     },
     "metadata": {},
     "output_type": "display_data"
    },
    {
     "ename": "KeyboardInterrupt",
     "evalue": "",
     "output_type": "error",
     "traceback": [
      "\u001b[0;31m---------------------------------------------------------------------------\u001b[0m",
      "\u001b[0;31mKeyboardInterrupt\u001b[0m                         Traceback (most recent call last)",
      "Cell \u001b[0;32mIn[11], line 1\u001b[0m\n\u001b[0;32m----> 1\u001b[0m run_train(vf\u001b[38;5;241m=\u001b[39mvf, \n\u001b[1;32m      2\u001b[0m             train_dataloader\u001b[38;5;241m=\u001b[39mtrain_dataloader,\n\u001b[1;32m      3\u001b[0m             val_dataloader\u001b[38;5;241m=\u001b[39mval_dataloader,\n\u001b[1;32m      4\u001b[0m             run_parameters\u001b[38;5;241m=\u001b[39mrun_parameters, \n\u001b[1;32m      5\u001b[0m             manifold\u001b[38;5;241m=\u001b[39mmanifold, \n\u001b[1;32m      6\u001b[0m             ema_vf\u001b[38;5;241m=\u001b[39mema_vf, dataset\u001b[38;5;241m=\u001b[39mdataset, \n\u001b[1;32m      7\u001b[0m             gt_obs\u001b[38;5;241m=\u001b[39mgt_obs, \n\u001b[1;32m      8\u001b[0m             run_name\u001b[38;5;241m=\u001b[39m\u001b[38;5;124m\"\u001b[39m\u001b[38;5;124mSphere Euclidean 3D\u001b[39m\u001b[38;5;124m\"\u001b[39m)\n",
      "Cell \u001b[0;32mIn[10], line 33\u001b[0m, in \u001b[0;36mrun_train\u001b[0;34m(vf, train_dataloader, val_dataloader, run_parameters, manifold, ema_vf, dataset, gt_obs, run_name, run_path)\u001b[0m\n\u001b[1;32m     31\u001b[0m start_time \u001b[38;5;241m=\u001b[39m time\u001b[38;5;241m.\u001b[39mtime()\n\u001b[1;32m     32\u001b[0m \u001b[38;5;28;01mfor\u001b[39;00m i \u001b[38;5;129;01min\u001b[39;00m \u001b[38;5;28mrange\u001b[39m(run_parameters[\u001b[38;5;124m'\u001b[39m\u001b[38;5;124mtrain\u001b[39m\u001b[38;5;124m'\u001b[39m][\u001b[38;5;124m'\u001b[39m\u001b[38;5;124mepochs\u001b[39m\u001b[38;5;124m'\u001b[39m]):\n\u001b[0;32m---> 33\u001b[0m     \u001b[38;5;28;01mfor\u001b[39;00m batch \u001b[38;5;129;01min\u001b[39;00m train_dataloader:\n\u001b[1;32m     34\u001b[0m         optim\u001b[38;5;241m.\u001b[39mzero_grad()\n\u001b[1;32m     36\u001b[0m         train_loss \u001b[38;5;241m=\u001b[39m step_euc_sphere(vf\u001b[38;5;241m=\u001b[39mvf, \n\u001b[1;32m     37\u001b[0m                                     batch\u001b[38;5;241m=\u001b[39mbatch, \n\u001b[1;32m     38\u001b[0m                                     run_parameters\u001b[38;5;241m=\u001b[39mrun_parameters, \n\u001b[1;32m     39\u001b[0m                                     path\u001b[38;5;241m=\u001b[39mpath, \n\u001b[1;32m     40\u001b[0m                                     device\u001b[38;5;241m=\u001b[39mdevice)\n",
      "File \u001b[0;32m~/anaconda3/envs/ml_env/lib/python3.12/site-packages/torch/utils/data/dataloader.py:701\u001b[0m, in \u001b[0;36m_BaseDataLoaderIter.__next__\u001b[0;34m(self)\u001b[0m\n\u001b[1;32m    698\u001b[0m \u001b[38;5;28;01mif\u001b[39;00m \u001b[38;5;28mself\u001b[39m\u001b[38;5;241m.\u001b[39m_sampler_iter \u001b[38;5;129;01mis\u001b[39;00m \u001b[38;5;28;01mNone\u001b[39;00m:\n\u001b[1;32m    699\u001b[0m     \u001b[38;5;66;03m# TODO(https://github.com/pytorch/pytorch/issues/76750)\u001b[39;00m\n\u001b[1;32m    700\u001b[0m     \u001b[38;5;28mself\u001b[39m\u001b[38;5;241m.\u001b[39m_reset()  \u001b[38;5;66;03m# type: ignore[call-arg]\u001b[39;00m\n\u001b[0;32m--> 701\u001b[0m data \u001b[38;5;241m=\u001b[39m \u001b[38;5;28mself\u001b[39m\u001b[38;5;241m.\u001b[39m_next_data()\n\u001b[1;32m    702\u001b[0m \u001b[38;5;28mself\u001b[39m\u001b[38;5;241m.\u001b[39m_num_yielded \u001b[38;5;241m+\u001b[39m\u001b[38;5;241m=\u001b[39m \u001b[38;5;241m1\u001b[39m\n\u001b[1;32m    703\u001b[0m \u001b[38;5;28;01mif\u001b[39;00m (\n\u001b[1;32m    704\u001b[0m     \u001b[38;5;28mself\u001b[39m\u001b[38;5;241m.\u001b[39m_dataset_kind \u001b[38;5;241m==\u001b[39m _DatasetKind\u001b[38;5;241m.\u001b[39mIterable\n\u001b[1;32m    705\u001b[0m     \u001b[38;5;129;01mand\u001b[39;00m \u001b[38;5;28mself\u001b[39m\u001b[38;5;241m.\u001b[39m_IterableDataset_len_called \u001b[38;5;129;01mis\u001b[39;00m \u001b[38;5;129;01mnot\u001b[39;00m \u001b[38;5;28;01mNone\u001b[39;00m\n\u001b[1;32m    706\u001b[0m     \u001b[38;5;129;01mand\u001b[39;00m \u001b[38;5;28mself\u001b[39m\u001b[38;5;241m.\u001b[39m_num_yielded \u001b[38;5;241m>\u001b[39m \u001b[38;5;28mself\u001b[39m\u001b[38;5;241m.\u001b[39m_IterableDataset_len_called\n\u001b[1;32m    707\u001b[0m ):\n",
      "File \u001b[0;32m~/anaconda3/envs/ml_env/lib/python3.12/site-packages/torch/utils/data/dataloader.py:757\u001b[0m, in \u001b[0;36m_SingleProcessDataLoaderIter._next_data\u001b[0;34m(self)\u001b[0m\n\u001b[1;32m    755\u001b[0m \u001b[38;5;28;01mdef\u001b[39;00m \u001b[38;5;21m_next_data\u001b[39m(\u001b[38;5;28mself\u001b[39m):\n\u001b[1;32m    756\u001b[0m     index \u001b[38;5;241m=\u001b[39m \u001b[38;5;28mself\u001b[39m\u001b[38;5;241m.\u001b[39m_next_index()  \u001b[38;5;66;03m# may raise StopIteration\u001b[39;00m\n\u001b[0;32m--> 757\u001b[0m     data \u001b[38;5;241m=\u001b[39m \u001b[38;5;28mself\u001b[39m\u001b[38;5;241m.\u001b[39m_dataset_fetcher\u001b[38;5;241m.\u001b[39mfetch(index)  \u001b[38;5;66;03m# may raise StopIteration\u001b[39;00m\n\u001b[1;32m    758\u001b[0m     \u001b[38;5;28;01mif\u001b[39;00m \u001b[38;5;28mself\u001b[39m\u001b[38;5;241m.\u001b[39m_pin_memory:\n\u001b[1;32m    759\u001b[0m         data \u001b[38;5;241m=\u001b[39m _utils\u001b[38;5;241m.\u001b[39mpin_memory\u001b[38;5;241m.\u001b[39mpin_memory(data, \u001b[38;5;28mself\u001b[39m\u001b[38;5;241m.\u001b[39m_pin_memory_device)\n",
      "File \u001b[0;32m~/anaconda3/envs/ml_env/lib/python3.12/site-packages/torch/utils/data/_utils/fetch.py:50\u001b[0m, in \u001b[0;36m_MapDatasetFetcher.fetch\u001b[0;34m(self, possibly_batched_index)\u001b[0m\n\u001b[1;32m     48\u001b[0m \u001b[38;5;28;01mif\u001b[39;00m \u001b[38;5;28mself\u001b[39m\u001b[38;5;241m.\u001b[39mauto_collation:\n\u001b[1;32m     49\u001b[0m     \u001b[38;5;28;01mif\u001b[39;00m \u001b[38;5;28mhasattr\u001b[39m(\u001b[38;5;28mself\u001b[39m\u001b[38;5;241m.\u001b[39mdataset, \u001b[38;5;124m\"\u001b[39m\u001b[38;5;124m__getitems__\u001b[39m\u001b[38;5;124m\"\u001b[39m) \u001b[38;5;129;01mand\u001b[39;00m \u001b[38;5;28mself\u001b[39m\u001b[38;5;241m.\u001b[39mdataset\u001b[38;5;241m.\u001b[39m__getitems__:\n\u001b[0;32m---> 50\u001b[0m         data \u001b[38;5;241m=\u001b[39m \u001b[38;5;28mself\u001b[39m\u001b[38;5;241m.\u001b[39mdataset\u001b[38;5;241m.\u001b[39m__getitems__(possibly_batched_index)\n\u001b[1;32m     51\u001b[0m     \u001b[38;5;28;01melse\u001b[39;00m:\n\u001b[1;32m     52\u001b[0m         data \u001b[38;5;241m=\u001b[39m [\u001b[38;5;28mself\u001b[39m\u001b[38;5;241m.\u001b[39mdataset[idx] \u001b[38;5;28;01mfor\u001b[39;00m idx \u001b[38;5;129;01min\u001b[39;00m possibly_batched_index]\n",
      "File \u001b[0;32m~/anaconda3/envs/ml_env/lib/python3.12/site-packages/torch/utils/data/dataset.py:420\u001b[0m, in \u001b[0;36mSubset.__getitems__\u001b[0;34m(self, indices)\u001b[0m\n\u001b[1;32m    418\u001b[0m     \u001b[38;5;28;01mreturn\u001b[39;00m \u001b[38;5;28mself\u001b[39m\u001b[38;5;241m.\u001b[39mdataset\u001b[38;5;241m.\u001b[39m__getitems__([\u001b[38;5;28mself\u001b[39m\u001b[38;5;241m.\u001b[39mindices[idx] \u001b[38;5;28;01mfor\u001b[39;00m idx \u001b[38;5;129;01min\u001b[39;00m indices])  \u001b[38;5;66;03m# type: ignore[attr-defined]\u001b[39;00m\n\u001b[1;32m    419\u001b[0m \u001b[38;5;28;01melse\u001b[39;00m:\n\u001b[0;32m--> 420\u001b[0m     \u001b[38;5;28;01mreturn\u001b[39;00m [\u001b[38;5;28mself\u001b[39m\u001b[38;5;241m.\u001b[39mdataset[\u001b[38;5;28mself\u001b[39m\u001b[38;5;241m.\u001b[39mindices[idx]] \u001b[38;5;28;01mfor\u001b[39;00m idx \u001b[38;5;129;01min\u001b[39;00m indices]\n",
      "File \u001b[0;32m~/projects/python/thesis/Geometric-Flow-Matching/data/lasa_data.py:154\u001b[0m, in \u001b[0;36mStatePyLASADataset.__getitem__\u001b[0;34m(self, idx)\u001b[0m\n\u001b[1;32m    152\u001b[0m     index_permutation \u001b[38;5;241m=\u001b[39m torch\u001b[38;5;241m.\u001b[39marange(demo\u001b[38;5;241m.\u001b[39mshape[\u001b[38;5;241m0\u001b[39m])\n\u001b[1;32m    153\u001b[0m a \u001b[38;5;241m=\u001b[39m \u001b[38;5;28mself\u001b[39m\u001b[38;5;241m.\u001b[39mhorizons[idx][index_permutation]\n\u001b[0;32m--> 154\u001b[0m obs \u001b[38;5;241m=\u001b[39m \u001b[38;5;28mself\u001b[39m\u001b[38;5;241m.\u001b[39m_sample_context(demo)[index_permutation]\n\u001b[1;32m    155\u001b[0m \u001b[38;5;28;01mreturn\u001b[39;00m obs, a, label\n",
      "File \u001b[0;32m~/projects/python/thesis/Geometric-Flow-Matching/data/lasa_data.py:122\u001b[0m, in \u001b[0;36mStatePyLASADataset._sample_context\u001b[0;34m(self, demo)\u001b[0m\n\u001b[1;32m    119\u001b[0m N \u001b[38;5;241m=\u001b[39m demo\u001b[38;5;241m.\u001b[39mshape[\u001b[38;5;241m0\u001b[39m]\n\u001b[1;32m    121\u001b[0m indices \u001b[38;5;241m=\u001b[39m np\u001b[38;5;241m.\u001b[39marange(N)\n\u001b[0;32m--> 122\u001b[0m sampled_indices \u001b[38;5;241m=\u001b[39m np\u001b[38;5;241m.\u001b[39marray([np\u001b[38;5;241m.\u001b[39mrandom\u001b[38;5;241m.\u001b[39mrandint(\u001b[38;5;241m0\u001b[39m, k\u001b[38;5;241m+\u001b[39m\u001b[38;5;241m1\u001b[39m) \u001b[38;5;28;01mfor\u001b[39;00m k \u001b[38;5;129;01min\u001b[39;00m indices])  \u001b[38;5;66;03m# i ≤ k\u001b[39;00m\n\u001b[1;32m    124\u001b[0m differences \u001b[38;5;241m=\u001b[39m (indices \u001b[38;5;241m-\u001b[39m sampled_indices) \u001b[38;5;241m/\u001b[39m (indices \u001b[38;5;241m+\u001b[39m \u001b[38;5;241m1\u001b[39m)\n\u001b[1;32m    126\u001b[0m gt_obs_k \u001b[38;5;241m=\u001b[39m demo[indices]\n",
      "\u001b[0;31mKeyboardInterrupt\u001b[0m: "
     ]
    }
   ],
   "source": [
    "run_train(vf=vf, \n",
    "            train_dataloader=train_dataloader,\n",
    "            val_dataloader=val_dataloader,\n",
    "            run_parameters=run_parameters, \n",
    "            manifold=manifold, \n",
    "            ema_vf=ema_vf, dataset=dataset, \n",
    "            gt_obs=gt_obs, \n",
    "            run_name=\"Sphere Euclidean 3D\")"
   ]
  },
  {
   "cell_type": "code",
   "execution_count": 11,
   "metadata": {},
   "outputs": [],
   "source": [
    "criterion =  SoftDTW(gamma=1.0, normalize=True)"
   ]
  },
  {
   "cell_type": "code",
   "execution_count": 12,
   "metadata": {},
   "outputs": [
    {
     "name": "stderr",
     "output_type": "stream",
     "text": [
      "                                                                     "
     ]
    },
    {
     "name": "stdout",
     "output_type": "stream",
     "text": [
      "0.00026770022224637923\n"
     ]
    },
    {
     "name": "stderr",
     "output_type": "stream",
     "text": [
      "\r"
     ]
    }
   ],
   "source": [
    "class_labels = dataset.get_label_maping()\n",
    "for label_name in list(class_labels.keys()):\n",
    "    results = []\n",
    "    samples = []\n",
    "    errors = []\n",
    "    for _ in range(100): #run_parameters['train']['inf_runs_num']):\n",
    "        label = torch.tensor(class_labels[label_name],dtype=torch.long).unsqueeze(0)\n",
    "        res, samp, paths = infer_model(model=vf, \n",
    "                        start=gt_obs[class_labels[label_name],0,:run_parameters['data']['dim']], \n",
    "                        manifold=manifold,\n",
    "                        label=label,\n",
    "                        dim_manifold=run_parameters['data']['dim'],\n",
    "                        model_horizon= run_parameters['data']['horizon_size'],\n",
    "                        inference_horizon= 20,#run_parameters['data']['inference_horizon'],\n",
    "                        sample_points=run_parameters['data']['sample_points'],\n",
    "                        mean=run_parameters['data']['mean'],\n",
    "                        std=run_parameters['data']['std'],\n",
    "                        step_size=0.1,\n",
    "                        return_intermediates=True)\n",
    "        results.append(res)\n",
    "        samples.append(samp)\n",
    "        for sample in tqdm(range(len(paths)), desc=\"Path error\", leave=False):\n",
    "            path = paths[sample]\n",
    "            for i in range(path.shape[2]):\n",
    "                real_geodesic = sample_uniform_geodesic_path(manifold=manifold, \n",
    "                                                            start=path[0,0,i,:], #[1/step, b, horizon, dim]\n",
    "                                                            finish=path[-1,0,i,:],\n",
    "                                                            num_points=path.shape[0])\n",
    "                errors.append(curve_geodesic_MSE(manifold=manifold, \n",
    "                                                x_curve=real_geodesic, \n",
    "                                                y_curve=path[:,0,i,:]))\n",
    "        \n",
    "    # plot_flow_on_sphere(results, samples, gt_obs[class_labels[label_name]], label=label_name, dynamic=True)\n",
    "    print(np.array(errors).mean())"
   ]
  },
  {
   "cell_type": "code",
   "execution_count": 15,
   "metadata": {},
   "outputs": [],
   "source": [
    "def geodesic_distance(p, q):\n",
    "    dot = torch.clamp(torch.sum(p * q, dim=-1), -1.0, 1.0)\n",
    "    return torch.arccos(dot)\n",
    "\n",
    "def trajectory_geodesic_stats(trajectories):\n",
    "    N = len(trajectories)\n",
    "    num_points, dim = trajectories[0].shape\n",
    "\n",
    "    traj_tensor = torch.stack(trajectories, dim=0)\n",
    "\n",
    "    means = []\n",
    "    variances = []\n",
    "\n",
    "    for t in range(num_points):\n",
    "        points_t = traj_tensor[:, t, :]\n",
    "        mean_vec = points_t.mean(dim=0)\n",
    "        mean_vec = mean_vec / mean_vec.norm()\n",
    "        means.append(mean_vec)\n",
    "\n",
    "        dists = geodesic_distance(points_t, mean_vec)\n",
    "        variances.append((dists ** 2).mean())\n",
    "\n",
    "    return torch.stack(means), torch.stack(variances)"
   ]
  },
  {
   "cell_type": "code",
   "execution_count": 16,
   "metadata": {},
   "outputs": [],
   "source": [
    "mean, std = trajectory_geodesic_stats(results)"
   ]
  },
  {
   "cell_type": "code",
   "execution_count": 17,
   "metadata": {},
   "outputs": [],
   "source": [
    "import matplotlib.pyplot as plt\n",
    "import numpy as np\n",
    "\n",
    "def plot_geodesic_stats_on_sphere(means, variances, label, elev=-90, azim=0):\n",
    "    if isinstance(means, torch.Tensor):\n",
    "        means = means.cpu().numpy()\n",
    "    if isinstance(variances, torch.Tensor):\n",
    "        variances = variances.cpu().numpy()\n",
    "\n",
    "    fig = plt.figure(figsize=(6, 6))\n",
    "    ax = fig.add_subplot(111, projection='3d')\n",
    "\n",
    "    u = np.linspace(0, 2 * np.pi, 100)\n",
    "    v = np.linspace(0, np.pi, 50)\n",
    "    x = np.outer(np.cos(u), np.sin(v))\n",
    "    y = np.outer(np.sin(u), np.sin(v))\n",
    "    z = np.outer(np.ones(np.size(u)), np.cos(v))\n",
    "    ax.plot_wireframe(x, y, z, color=\"gray\", alpha=0.2)\n",
    "\n",
    "    p = ax.scatter(means[:, 0], means[:, 1], means[:, 2],\n",
    "                   c=variances, cmap='plasma', s=40, label=\"Geodesic Mean\")\n",
    "\n",
    "    cb = plt.colorbar(p, ax=ax, shrink=0.7)\n",
    "    cb.set_label(\"Variance\")\n",
    "\n",
    "    ax.view_init(elev=elev, azim=azim)\n",
    "    ax.set_title(label + \" var of trajectory\")\n",
    "    ax.set_xlabel(\"X\")\n",
    "    ax.set_ylabel(\"Y\")\n",
    "    ax.set_zlabel(\"Z\")\n",
    "    ax.legend()\n",
    "    plt.tight_layout()\n",
    "    plt.show()\n"
   ]
  },
  {
   "cell_type": "code",
   "execution_count": 18,
   "metadata": {},
   "outputs": [
    {
     "data": {
      "image/png": "[encoded data removed]",
      "text/plain": [
       "<Figure size 600x600 with 2 Axes>"
      ]
     },
     "metadata": {},
     "output_type": "display_data"
    }
   ],
   "source": [
    "plot_geodesic_stats_on_sphere(mean, std, label=\"sine\")"
   ]
  }
 ],
 "metadata": {
  "kernelspec": {
   "display_name": "ml_env",
   "language": "python",
   "name": "python3"
  },
  "language_info": {
   "codemirror_mode": {
    "name": "ipython",
    "version": 3
   },
   "file_extension": ".py",
   "mimetype": "text/x-python",
   "name": "python",
   "nbconvert_exporter": "python",
   "pygments_lexer": "ipython3",
   "version": "3.12.7"
  }
 },
 "nbformat": 4,
 "nbformat_minor": 2
}
